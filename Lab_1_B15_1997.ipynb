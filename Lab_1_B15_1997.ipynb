{
  "nbformat": 4,
  "nbformat_minor": 0,
  "metadata": {
    "colab": {
      "provenance": [],
      "authorship_tag": "ABX9TyMeYAZMRQvp1WE/9kp4Sy83",
      "include_colab_link": true
    },
    "kernelspec": {
      "name": "python3",
      "display_name": "Python 3"
    },
    "language_info": {
      "name": "python"
    }
  },
  "cells": [
    {
      "cell_type": "markdown",
      "metadata": {
        "id": "view-in-github",
        "colab_type": "text"
      },
      "source": [
        "<a href=\"https://colab.research.google.com/github/mohammedirfan78698/PDS_B15_1997_/blob/main/Lab_1_B15_1997.ipynb\" target=\"_parent\"><img src=\"https://colab.research.google.com/assets/colab-badge.svg\" alt=\"Open In Colab\"/></a>"
      ]
    },
    {
      "cell_type": "code",
      "execution_count": 1,
      "metadata": {
        "id": "F8Rz7miW02BM",
        "colab": {
          "base_uri": "https://localhost:8080/"
        },
        "outputId": "f7a94dcc-0183-4b63-ad78-7b14552d8b4e"
      },
      "outputs": [
        {
          "output_type": "stream",
          "name": "stdout",
          "text": [
            "factorial_recursive(5) called\n",
            "factorial_recursive(4) called\n",
            "factorial_recursive(3) called\n",
            "factorial_recursive(2) called\n",
            "factorial_recursive(1) called\n",
            "Returning 1 (base case)\n",
            "Returning 2\n",
            "Returning 6\n",
            "Returning 24\n",
            "Returning 120\n",
            "Recursive: 120\n",
            "Iterative: 120\n",
            "factorial_tail_recursive(5, acc=1) called\n",
            "factorial_tail_recursive(4, acc=5) called\n",
            "factorial_tail_recursive(3, acc=20) called\n",
            "factorial_tail_recursive(2, acc=60) called\n",
            "factorial_tail_recursive(1, acc=120) called\n",
            "Returning 120\n",
            "Tail Recursive: 120\n"
          ]
        }
      ],
      "source": [
        "def factorial_recursive(n):\n",
        "    if not isinstance(n, int) or n < 0:\n",
        "        raise ValueError(\"Input must be a non-negative integer\")\n",
        "    print(f\"factorial_recursive({n}) called\")\n",
        "    if n == 0 or n == 1:\n",
        "        print(\"Returning 1 (base case)\")\n",
        "        return 1\n",
        "    result = n * factorial_recursive(n - 1)\n",
        "    print(f\"Returning {result}\")\n",
        "    return result\n",
        "\n",
        "def factorial_iterative(n):\n",
        "    if not isinstance(n, int) or n < 0:\n",
        "        raise ValueError(\"Input must be a non-negative integer\")\n",
        "    result = 1\n",
        "    for i in range(2, n + 1):\n",
        "        result *= i\n",
        "    return result\n",
        "\n",
        "def factorial_tail_recursive(n, acc=1):\n",
        "    print(f\"factorial_tail_recursive({n}, acc={acc}) called\")\n",
        "    if not isinstance(n, int) or n < 0:\n",
        "        raise ValueError(\"Input must be a non-negative integer\")\n",
        "    if n == 0 or n == 1:\n",
        "        print(f\"Returning {acc}\")\n",
        "        return acc\n",
        "    return factorial_tail_recursive(n - 1, acc * n)\n",
        "\n",
        "num = 5\n",
        "print(\"Recursive:\", factorial_recursive(num))\n",
        "print(\"Iterative:\", factorial_iterative(num))\n",
        "print(\"Tail Recursive:\", factorial_tail_recursive(num))\n"
      ]
    },
    {
      "cell_type": "code",
      "source": [
        "def factorial_recursive(n):\n",
        "    if not isinstance(n, int) or n < 0:\n",
        "        raise ValueError(\"Input must be a non-negative integer\")\n",
        "    if n == 0 or n == 1:\n",
        "        return 1\n",
        "    return n * factorial_recursive(n - 1)\n",
        "\n",
        "def nCr(n, r):\n",
        "    if not isinstance(n, int) or not isinstance(r, int) or n < 0 or r < 0 or n < r:\n",
        "        raise ValueError(\"Invalid input: ensure n ≥ r ≥ 0\")\n",
        "    print(f\"Calculating nCr({n},{r})\")\n",
        "    fn = factorial_recursive(n)\n",
        "    fr = factorial_recursive(r)\n",
        "    fnr = factorial_recursive(n - r)\n",
        "    print(f\"{n}! = {fn}, {r}! = {fr}, (n-r)! = {fnr}\")\n",
        "    return fn // (fr * fnr)\n",
        "\n",
        "import math\n",
        "print(\"nCr using recursion:\", nCr(5, 2))\n",
        "print(\"nCr using math.comb:\", math.comb(5, 2))\n"
      ],
      "metadata": {
        "id": "k5csvHWJ07N8",
        "colab": {
          "base_uri": "https://localhost:8080/"
        },
        "outputId": "bc6816bb-4946-4558-eb59-1d924f43a295"
      },
      "execution_count": 2,
      "outputs": [
        {
          "output_type": "stream",
          "name": "stdout",
          "text": [
            "Calculating nCr(5,2)\n",
            "5! = 120, 2! = 2, (n-r)! = 6\n",
            "nCr using recursion: 10\n",
            "nCr using math.comb: 10\n"
          ]
        }
      ]
    }
  ]
}