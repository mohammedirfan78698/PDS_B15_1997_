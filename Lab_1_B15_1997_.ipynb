{
  "nbformat": 4,
  "nbformat_minor": 0,
  "metadata": {
    "colab": {
      "provenance": [],
      "authorship_tag": "ABX9TyNp60uUNE/6Q+bIBdjaGt8I",
      "include_colab_link": true
    },
    "kernelspec": {
      "name": "python3",
      "display_name": "Python 3"
    },
    "language_info": {
      "name": "python"
    }
  },
  "cells": [
    {
      "cell_type": "markdown",
      "metadata": {
        "id": "view-in-github",
        "colab_type": "text"
      },
      "source": [
        "<a href=\"https://colab.research.google.com/github/mohammedirfan78698/PDS_B15_1997_/blob/main/Lab_1_B15_1997_.ipynb\" target=\"_parent\"><img src=\"https://colab.research.google.com/assets/colab-badge.svg\" alt=\"Open In Colab\"/></a>"
      ]
    },
    {
      "cell_type": "code",
      "execution_count": 2,
      "metadata": {
        "id": "eWvlav4pwxrX"
      },
      "outputs": [],
      "source": [
        "def factorial_recursive(n, depth=0):\n",
        "\n",
        "    if not isinstance(n, int):\n",
        "        raise ValueError(\"Input must be an integer.\")\n",
        "    if n < 0:\n",
        "        raise ValueError(\"Factorial is not defined for negative numbers.\")\n",
        "\n",
        "    indent = \" \" * depth * 4\n",
        "    print(f\"{indent}factorial_recursive({n}) called\")\n",
        "\n",
        "    if n == 0 or n == 1:\n",
        "        print(f\"{indent}Returning 1 (base case)\")\n",
        "        return 1\n",
        "\n",
        "    result = n * factorial_recursive(n - 1, depth + 1)\n",
        "    print(f\"{indent}Returning {result} (computed {n} * factorial_recursive({n-1}))\")\n",
        "    return result"
      ]
    },
    {
      "cell_type": "code",
      "source": [
        "def factorial_iterative(n):\n",
        "\n",
        "    if not isinstance(n, int):\n",
        "        raise ValueError(\"Input must be an integer.\")\n",
        "    if n < 0:\n",
        "        raise ValueError(\"Factorial is not defined for negative numbers.\")\n",
        "\n",
        "    result = 1\n",
        "    for i in range(2, n+1):\n",
        "        result *= i\n",
        "    return result"
      ],
      "metadata": {
        "id": "fKNJR7SxxILg"
      },
      "execution_count": 3,
      "outputs": []
    },
    {
      "cell_type": "code",
      "source": [
        "def factorial_tail_recursive(n, acc=1, depth=0):\n",
        "    indent = \" \" * depth * 4\n",
        "    print(f\"{indent}factorial_tail_recursive({n}, acc={acc}) called\")\n",
        "\n",
        "    if not isinstance(n, int):\n",
        "        raise ValueError(\"Input must be an integer.\")\n",
        "    if n < 0:\n",
        "        raise ValueError(\"Factorial is not defined for negative numbers.\")\n",
        "\n",
        "    if n == 0 or n == 1:\n",
        "        print(f\"{indent}Returning {acc} (base case)\")\n",
        "        return acc\n",
        "    return factorial_tail_recursive(n - 1, acc * n, depth + 1)\n"
      ],
      "metadata": {
        "id": "MkkR98AjxMFq"
      },
      "execution_count": 4,
      "outputs": []
    },
    {
      "cell_type": "code",
      "source": [
        "if __name__ == \"__main__\":\n",
        "    num = 5\n",
        "    print(\"\\n--- Recursive Factorial with Trace ---\")\n",
        "    print(f\"Factorial({num}) = {factorial_recursive(num)}\")\n",
        "\n",
        "    print(\"\\n--- Iterative Factorial ---\")\n",
        "    print(f\"Factorial({num}) = {factorial_iterative(num)}\")\n",
        "\n",
        "    print(\"\\n--- Tail Recursive Factorial with Trace ---\")\n",
        "    print(f\"Factorial({num}) = {factorial_tail_recursive(num)}\")"
      ],
      "metadata": {
        "colab": {
          "base_uri": "https://localhost:8080/"
        },
        "id": "XTX0-edmxPQl",
        "outputId": "eaf0b7c8-6d75-4f1f-8fbd-bfc9ae144cd4"
      },
      "execution_count": 5,
      "outputs": [
        {
          "output_type": "stream",
          "name": "stdout",
          "text": [
            "\n",
            "--- Recursive Factorial with Trace ---\n",
            "factorial_recursive(5) called\n",
            "    factorial_recursive(4) called\n",
            "        factorial_recursive(3) called\n",
            "            factorial_recursive(2) called\n",
            "                factorial_recursive(1) called\n",
            "                Returning 1 (base case)\n",
            "            Returning 2 (computed 2 * factorial_recursive(1))\n",
            "        Returning 6 (computed 3 * factorial_recursive(2))\n",
            "    Returning 24 (computed 4 * factorial_recursive(3))\n",
            "Returning 120 (computed 5 * factorial_recursive(4))\n",
            "Factorial(5) = 120\n",
            "\n",
            "--- Iterative Factorial ---\n",
            "Factorial(5) = 120\n",
            "\n",
            "--- Tail Recursive Factorial with Trace ---\n",
            "factorial_tail_recursive(5, acc=1) called\n",
            "    factorial_tail_recursive(4, acc=5) called\n",
            "        factorial_tail_recursive(3, acc=20) called\n",
            "            factorial_tail_recursive(2, acc=60) called\n",
            "                factorial_tail_recursive(1, acc=120) called\n",
            "                Returning 120 (base case)\n",
            "Factorial(5) = 120\n"
          ]
        }
      ]
    }
  ]
}