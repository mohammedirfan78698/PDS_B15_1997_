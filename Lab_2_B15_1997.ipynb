{
  "nbformat": 4,
  "nbformat_minor": 0,
  "metadata": {
    "colab": {
      "provenance": [],
      "authorship_tag": "ABX9TyNortuLp8WGBUgwhlK4F4nx",
      "include_colab_link": true
    },
    "kernelspec": {
      "name": "python3",
      "display_name": "Python 3"
    },
    "language_info": {
      "name": "python"
    }
  },
  "cells": [
    {
      "cell_type": "markdown",
      "metadata": {
        "id": "view-in-github",
        "colab_type": "text"
      },
      "source": [
        "<a href=\"https://colab.research.google.com/github/mohammedirfan78698/PDS_B15_1997_/blob/main/Lab_2_B15_1997.ipynb\" target=\"_parent\"><img src=\"https://colab.research.google.com/assets/colab-badge.svg\" alt=\"Open In Colab\"/></a>"
      ]
    },
    {
      "cell_type": "code",
      "execution_count": 2,
      "metadata": {
        "colab": {
          "base_uri": "https://localhost:8080/"
        },
        "id": "9TG0wkiGyHV9",
        "outputId": "207f0434-ce40-45fd-92a2-fd4cffe3ee9d"
      },
      "outputs": [
        {
          "output_type": "stream",
          "name": "stdout",
          "text": [
            "Student Marks Array:\n",
            " [[85 78 92]\n",
            " [72 65 80]\n",
            " [90 88 95]\n",
            " [60 70 68]\n",
            " [88 82 79]]\n",
            "\n",
            "Average Marks : 79.46666666666667\n",
            "Minimum Marks : 60\n",
            "Maximum Marks : 95\n",
            "\n",
            "Marks of Student 3: [90 88 95]\n",
            "\n",
            "Boolean Array (True if mark > 80):\n",
            " [[ True False  True]\n",
            " [False False False]\n",
            " [ True  True  True]\n",
            " [False False False]\n",
            " [ True  True False]]\n",
            "\n",
            "Subject-wise Performance (rows = subjects):\n",
            " [[85 72 90 60 88]\n",
            " [78 65 88 70 82]\n",
            " [92 80 95 68 79]]\n",
            "\n",
            "Subject 1 -> Avg: 79.0, Min: 60, Max: 90\n",
            "\n",
            "Subject 2 -> Avg: 76.6, Min: 65, Max: 88\n",
            "\n",
            "Subject 3 -> Avg: 82.8, Min: 68, Max: 95\n"
          ]
        }
      ],
      "source": [
        "import numpy as np\n",
        "\n",
        "marks = np.array([\n",
        "    [85, 78, 92],\n",
        "    [72, 65, 80],\n",
        "    [90, 88, 95],\n",
        "    [60, 70, 68],\n",
        "    [88, 82, 79]\n",
        "])\n",
        "\n",
        "print(\"Student Marks Array:\\n\", marks)\n",
        "\n",
        "avg_marks = np.mean(marks)\n",
        "min_marks = np.min(marks)\n",
        "max_marks = np.max(marks)\n",
        "\n",
        "print(\"\\nAverage Marks :\", avg_marks)\n",
        "print(\"Minimum Marks :\", min_marks)\n",
        "print(\"Maximum Marks :\", max_marks)\n",
        "\n",
        "print(\"\\nMarks of Student 3:\", marks[2])\n",
        "\n",
        "above_80 = marks > 80\n",
        "print(\"\\nBoolean Array (True if mark > 80):\\n\", above_80)\n",
        "\n",
        "subject_wise = marks.T\n",
        "print(\"\\nSubject-wise Performance (rows = subjects):\\n\", subject_wise)\n",
        "\n",
        "for i, subject in enumerate(subject_wise, start=1):\n",
        "    print(f\"\\nSubject {i} -> Avg: {np.mean(subject)}, Min: {np.min(subject)}, Max: {np.max(subject)}\")\n"
      ]
    }
  ]
}