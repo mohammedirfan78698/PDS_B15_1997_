{
  "nbformat": 4,
  "nbformat_minor": 0,
  "metadata": {
    "colab": {
      "provenance": [],
      "authorship_tag": "ABX9TyN72NvtZnZUzFRqRsT1aL2F",
      "include_colab_link": true
    },
    "kernelspec": {
      "name": "python3",
      "display_name": "Python 3"
    },
    "language_info": {
      "name": "python"
    }
  },
  "cells": [
    {
      "cell_type": "markdown",
      "metadata": {
        "id": "view-in-github",
        "colab_type": "text"
      },
      "source": [
        "<a href=\"https://colab.research.google.com/github/mohammedirfan78698/PDS_B15_1997_/blob/main/Lab_3_B15_1997.ipynb\" target=\"_parent\"><img src=\"https://colab.research.google.com/assets/colab-badge.svg\" alt=\"Open In Colab\"/></a>"
      ]
    },
    {
      "cell_type": "code",
      "execution_count": 1,
      "metadata": {
        "colab": {
          "base_uri": "https://localhost:8080/"
        },
        "id": "uIiGZhfe0ZOW",
        "outputId": "d99a14fa-0445-4e7b-9887-962b0f1d1500"
      },
      "outputs": [
        {
          "output_type": "stream",
          "name": "stdout",
          "text": [
            "Matrix A:\n",
            " [[9 5 1]\n",
            " [2 2 3]\n",
            " [5 8 8]]\n",
            "Matrix B:\n",
            " [[6 8 2]\n",
            " [1 5 5]\n",
            " [8 8 2]]\n",
            "\n",
            "Matrix Addition:\n",
            " [[15 13  3]\n",
            " [ 3  7  8]\n",
            " [13 16 10]]\n",
            "\n",
            "Matrix Subtraction:\n",
            " [[ 3 -3 -1]\n",
            " [ 1 -3 -2]\n",
            " [-3  0  6]]\n",
            "\n",
            "Manual Check (A[0,0] + B[0,0]): 15\n",
            "Manual Check (A[0,0] - B[0,0]): 3\n"
          ]
        }
      ],
      "source": [
        "import numpy as np\n",
        "\n",
        "A = np.random.randint(1, 10, (3, 3))\n",
        "B = np.random.randint(1, 10, (3, 3))\n",
        "\n",
        "print(\"Matrix A:\\n\", A)\n",
        "print(\"Matrix B:\\n\", B)\n",
        "\n",
        "add_result = np.add(A, B)\n",
        "sub_result = np.subtract(A, B)\n",
        "\n",
        "print(\"\\nMatrix Addition:\\n\", add_result)\n",
        "print(\"\\nMatrix Subtraction:\\n\", sub_result)\n",
        "\n",
        "print(\"\\nManual Check (A[0,0] + B[0,0]):\", A[0,0] + B[0,0])\n",
        "print(\"Manual Check (A[0,0] - B[0,0]):\", A[0,0] - B[0,0])\n"
      ]
    },
    {
      "cell_type": "code",
      "source": [
        "import numpy as np\n",
        "\n",
        "X = np.random.randint(1, 10, (3, 2))\n",
        "Y = np.random.randint(1, 10, (2, 3))\n",
        "\n",
        "print(\"Matrix X (3x2):\\n\", X)\n",
        "print(\"Matrix Y (2x3):\\n\", Y)\n",
        "\n",
        "dot_result = np.dot(X, Y)\n",
        "\n",
        "print(\"\\nDot Product Result (3x3):\\n\", dot_result)\n",
        "\n",
        "print(\"\\nManual Check (X[0] dot Y[:,0]):\", np.dot(X[0], Y[:,0]))\n"
      ],
      "metadata": {
        "colab": {
          "base_uri": "https://localhost:8080/"
        },
        "id": "9rx3065J0cb7",
        "outputId": "ecbed6f9-547b-4e18-b6e2-874668306162"
      },
      "execution_count": 2,
      "outputs": [
        {
          "output_type": "stream",
          "name": "stdout",
          "text": [
            "Matrix X (3x2):\n",
            " [[5 6]\n",
            " [9 2]\n",
            " [3 3]]\n",
            "Matrix Y (2x3):\n",
            " [[8 1 3]\n",
            " [3 7 2]]\n",
            "\n",
            "Dot Product Result (3x3):\n",
            " [[58 47 27]\n",
            " [78 23 31]\n",
            " [33 24 15]]\n",
            "\n",
            "Manual Check (X[0] dot Y[:,0]): 58\n"
          ]
        }
      ]
    }
  ]
}