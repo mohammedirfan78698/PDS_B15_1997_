{
  "nbformat": 4,
  "nbformat_minor": 0,
  "metadata": {
    "colab": {
      "provenance": [],
      "authorship_tag": "ABX9TyPwVx5yQJ5MrhahCs1JtVif",
      "include_colab_link": true
    },
    "kernelspec": {
      "name": "python3",
      "display_name": "Python 3"
    },
    "language_info": {
      "name": "python"
    }
  },
  "cells": [
    {
      "cell_type": "markdown",
      "metadata": {
        "id": "view-in-github",
        "colab_type": "text"
      },
      "source": [
        "<a href=\"https://colab.research.google.com/github/mohammedirfan78698/PDS_B15_1997_/blob/main/Lab_4_B15_1997.ipynb\" target=\"_parent\"><img src=\"https://colab.research.google.com/assets/colab-badge.svg\" alt=\"Open In Colab\"/></a>"
      ]
    },
    {
      "cell_type": "code",
      "execution_count": 2,
      "metadata": {
        "colab": {
          "base_uri": "https://localhost:8080/"
        },
        "id": "QOb4OGJv24_k",
        "outputId": "2817395a-af72-4e59-d322-584e4e1e9cfa"
      },
      "outputs": [
        {
          "output_type": "stream",
          "name": "stdout",
          "text": [
            "   Student_ID   Name   Math  Science  English\n",
            "0           1  Alice  85.00     78.0    82.00\n",
            "1           2    Bob  78.25     88.0    76.00\n",
            "3           4  David  90.00     92.0    79.25\n"
          ]
        }
      ],
      "source": [
        "import pandas as pd\n",
        "\n",
        "df = pd.read_csv(\"student_scores.csv\")\n",
        "df = df.fillna(df.mean(numeric_only=True))\n",
        "high_achievers = df[(df[\"Math\"] > 75) & (df[\"Science\"] > 75) & (df[\"English\"] > 75)]\n",
        "print(high_achievers)\n"
      ]
    },
    {
      "cell_type": "code",
      "source": [
        "import pandas as pd\n",
        "\n",
        "df = pd.read_csv(\"patients.csv\")\n",
        "df[\"Age\"] = df[\"Age\"].fillna(df[\"Age\"].median())\n",
        "elderly_female_diabetes = df[(df[\"Gender\"] == \"Female\") & (df[\"Age\"] > 50) & (df[\"Diagnosis\"] == \"Diabetes\")]\n",
        "print(elderly_female_diabetes)\n"
      ],
      "metadata": {
        "colab": {
          "base_uri": "https://localhost:8080/"
        },
        "id": "qL-UJfPE30xp",
        "outputId": "7be9f3a3-b52f-4b90-9749-5561e0215756"
      },
      "execution_count": 3,
      "outputs": [
        {
          "output_type": "stream",
          "name": "stdout",
          "text": [
            "   Patient_ID    Name   Age  Gender Diagnosis Admission_Date\n",
            "1         102    Mary  62.0  Female  Diabetes     2025-08-05\n",
            "2         103  Kavita  58.5  Female  Diabetes     2025-08-07\n",
            "4         105   Latha  55.0  Female  Diabetes     2025-08-09\n"
          ]
        }
      ]
    }
  ]
}