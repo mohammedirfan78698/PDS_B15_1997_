{
  "nbformat": 4,
  "nbformat_minor": 0,
  "metadata": {
    "colab": {
      "provenance": [],
      "authorship_tag": "ABX9TyN+emLgaBkp6kg/lLEiL1et",
      "include_colab_link": true
    },
    "kernelspec": {
      "name": "python3",
      "display_name": "Python 3"
    },
    "language_info": {
      "name": "python"
    }
  },
  "cells": [
    {
      "cell_type": "markdown",
      "metadata": {
        "id": "view-in-github",
        "colab_type": "text"
      },
      "source": [
        "<a href=\"https://colab.research.google.com/github/mohammedirfan78698/PDS_B15_1997_/blob/main/Lab_5_B15_1997.ipynb\" target=\"_parent\"><img src=\"https://colab.research.google.com/assets/colab-badge.svg\" alt=\"Open In Colab\"/></a>"
      ]
    },
    {
      "cell_type": "code",
      "execution_count": 2,
      "metadata": {
        "colab": {
          "base_uri": "https://localhost:8080/"
        },
        "id": "cEjQ3H1m4cR0",
        "outputId": "003f9adf-dec3-41e2-c61f-51f6e91bf65f"
      },
      "outputs": [
        {
          "output_type": "stream",
          "name": "stdout",
          "text": [
            "=== Inner Join ===\n",
            "    student_id     name class  math  science\n",
            "0           1    Alice     A    85       92\n",
            "1           2      Bob     B    90       87\n",
            "2           3  Charlie     A    78       85\n",
            "\n",
            "=== Left Join ===\n",
            "    student_id     name class  math  science\n",
            "0           1    Alice     A  85.0     92.0\n",
            "1           2      Bob     B  90.0     87.0\n",
            "2           3  Charlie     A  78.0     85.0\n",
            "3           4    David     B   NaN      NaN\n",
            "4           5      Eva     A   NaN      NaN\n",
            "\n",
            "=== Right Join ===\n",
            "    student_id     name class  math  science\n",
            "0           1    Alice     A    85       92\n",
            "1           2      Bob     B    90       87\n",
            "2           3  Charlie     A    78       85\n",
            "3           6      NaN   NaN    88       80\n",
            "\n",
            "=== Aggregate Stats ===\n",
            "             math  science\n",
            "mean   84.333333     88.0\n",
            "max    90.000000     92.0\n",
            "min    78.000000     85.0\n",
            "count   3.000000      3.0\n",
            "\n",
            "=== Grouped Stats by Class ===\n",
            "        math  science\n",
            "class               \n",
            "A      81.5     88.5\n",
            "B      90.0     87.0\n"
          ]
        }
      ],
      "source": [
        "import pandas as pd\n",
        "\n",
        "students = pd.DataFrame({\n",
        "    \"student_id\": [1, 2, 3, 4, 5],\n",
        "    \"name\": [\"Alice\", \"Bob\", \"Charlie\", \"David\", \"Eva\"],\n",
        "    \"class\": [\"A\", \"B\", \"A\", \"B\", \"A\"]\n",
        "})\n",
        "\n",
        "scores = pd.DataFrame({\n",
        "    \"student_id\": [1, 2, 3, 6],\n",
        "    \"math\": [85, 90, 78, 88],\n",
        "    \"science\": [92, 87, 85, 80]\n",
        "})\n",
        "\n",
        "inner_join = pd.merge(students, scores, on=\"student_id\", how=\"inner\")\n",
        "\n",
        "left_join = pd.merge(students, scores, on=\"student_id\", how=\"left\")\n",
        "\n",
        "right_join = pd.merge(students, scores, on=\"student_id\", how=\"right\")\n",
        "\n",
        "agg_stats = inner_join[[\"math\", \"science\"]].agg([\"mean\", \"max\", \"min\", \"count\"])\n",
        "\n",
        "grouped_stats = inner_join.groupby(\"class\")[[\"math\", \"science\"]].mean()\n",
        "\n",
        "print(\"=== Inner Join ===\\n\", inner_join)\n",
        "print(\"\\n=== Left Join ===\\n\", left_join)\n",
        "print(\"\\n=== Right Join ===\\n\", right_join)\n",
        "print(\"\\n=== Aggregate Stats ===\\n\", agg_stats)\n",
        "print(\"\\n=== Grouped Stats by Class ===\\n\", grouped_stats)\n"
      ]
    },
    {
      "cell_type": "code",
      "source": [
        "import pandas as pd\n",
        "\n",
        "customers = pd.read_csv(\"customers.csv\")\n",
        "sales = pd.read_csv(\"sales.csv\")\n",
        "\n",
        "inner_join = pd.merge(customers, sales, on=\"customer_id\", how=\"inner\")\n",
        "\n",
        "left_join = pd.merge(customers, sales, on=\"customer_id\", how=\"left\")\n",
        "\n",
        "total_sales = sales[\"amount\"].sum()\n",
        "mean_sales = sales[\"amount\"].mean()\n",
        "sales_per_customer = sales.groupby(\"customer_id\")[\"amount\"].sum()\n",
        "\n",
        "region_sales = inner_join.groupby(\"region\")[\"amount\"].agg([\"sum\", \"mean\", \"max\", \"min\"])\n",
        "\n",
        "print(\"=== Inner Join ===\\n\", inner_join)\n",
        "print(\"\\n=== Left Join ===\\n\", left_join)\n",
        "print(\"\\n=== Total Sales ===\", total_sales)\n",
        "print(\"\\n=== Mean Sales ===\", mean_sales)\n",
        "print(\"\\n=== Sales Per Customer ===\\n\", sales_per_customer)\n",
        "print(\"\\n=== Region-wise Sales Stats ===\\n\", region_sales)\n"
      ],
      "metadata": {
        "colab": {
          "base_uri": "https://localhost:8080/"
        },
        "id": "Z4HSkNOO5Im9",
        "outputId": "d2218c7c-f964-4c06-9bce-d98487b62baa"
      },
      "execution_count": 3,
      "outputs": [
        {
          "output_type": "stream",
          "name": "stdout",
          "text": [
            "=== Inner Join ===\n",
            "    customer_id     name region  sale_id  amount\n",
            "0            1    Alice  North      101     500\n",
            "1            1    Alice  North      103     300\n",
            "2            2      Bob  South      102     700\n",
            "3            2      Bob  South      106     200\n",
            "4            3  Charlie   East      104     400\n",
            "5            5      Eva  North      105     600\n",
            "\n",
            "=== Left Join ===\n",
            "    customer_id     name region  sale_id  amount\n",
            "0            1    Alice  North    101.0   500.0\n",
            "1            1    Alice  North    103.0   300.0\n",
            "2            2      Bob  South    102.0   700.0\n",
            "3            2      Bob  South    106.0   200.0\n",
            "4            3  Charlie   East    104.0   400.0\n",
            "5            4    David   West      NaN     NaN\n",
            "6            5      Eva  North    105.0   600.0\n",
            "\n",
            "=== Total Sales === 2700\n",
            "\n",
            "=== Mean Sales === 450.0\n",
            "\n",
            "=== Sales Per Customer ===\n",
            " customer_id\n",
            "1    800\n",
            "2    900\n",
            "3    400\n",
            "5    600\n",
            "Name: amount, dtype: int64\n",
            "\n",
            "=== Region-wise Sales Stats ===\n",
            "          sum        mean  max  min\n",
            "region                            \n",
            "East     400  400.000000  400  400\n",
            "North   1400  466.666667  600  300\n",
            "South    900  450.000000  700  200\n"
          ]
        }
      ]
    }
  ]
}